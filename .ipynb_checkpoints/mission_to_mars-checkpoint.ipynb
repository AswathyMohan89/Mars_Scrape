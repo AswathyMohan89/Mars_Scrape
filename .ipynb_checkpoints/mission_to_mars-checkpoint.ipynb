{
 "cells": [
  {
   "cell_type": "code",
   "execution_count": 1,
   "metadata": {
    "collapsed": true
   },
   "outputs": [],
   "source": [
    "# Dependencies\n",
    "from bs4 import BeautifulSoup\n",
    "import requests\n",
    "from splinter import Browser"
   ]
  },
  {
   "cell_type": "code",
   "execution_count": 15,
   "metadata": {
    "collapsed": true
   },
   "outputs": [],
   "source": [
    "# URL of page to be scraped\n",
    "url = 'https://mars.nasa.gov/news/'\n",
    "executable_path = {'executable_path': 'chromedriver.exe'}\n",
    "browser = Browser('chrome', **executable_path, headless=False)\n",
    "browser.visit(url)\n",
    "html = browser.html\n",
    "soup = BeautifulSoup(html, 'html.parser')"
   ]
  },
  {
   "cell_type": "code",
   "execution_count": 14,
   "metadata": {},
   "outputs": [
    {
     "name": "stdout",
     "output_type": "stream",
     "text": [
      "February 15, 2018\n",
      "https://mars.nasa.gov/system/news_items/list_view_images/8310_PIA22216_320.jpg\n",
      "https://mars.nasa.gov/news/8310/5000-days-on-mars-solar-powered-rover-approaching-5000th-martian-dawn/\n",
      "5,000 Days on Mars; Solar-Powered Rover Approaching 5,000th Martian Dawn\n",
      "The Sun will rise on NASA's solar-powered Mars rover Opportunity for the 5,000th time on Saturday, sending rays of energy to a robot that continues to provide revelations.\n"
     ]
    }
   ],
   "source": [
    "pop_url=\"https://mars.nasa.gov\"\n",
    "div=soup.find(\"div\",class_=\"image_and_description_container\")\n",
    "news_title=div.find(\"div\",class_=\"list_text\").find(\"a\").text\n",
    "date_news=div.find(\"div\",class_=\"list_text\").find(\"div\",class_=\"list_date\").text\n",
    "details=div.find(\"div\",class_=\"list_text\").find(\"div\",class_=\"content_title\")\n",
    "details_a=details.find(\"a\")[\"href\"]\n",
    "img_link=div.find(\"div\",class_=\"list_image\").find(\"img\")\n",
    "\n",
    "news_paragraph=div.find(\"div\",class_=\"article_teaser_body\").text\n",
    "print(date_news)\n",
    "print(pop_url+img_link[\"src\"])\n",
    "print(pop_url+details_a)\n",
    "print(news_title)\n",
    "print(news_paragraph)\n",
    "browser.quit()"
   ]
  },
  {
   "cell_type": "code",
   "execution_count": null,
   "metadata": {
    "collapsed": true
   },
   "outputs": [],
   "source": [
    "pop_url=\"https://mars.nasa.gov\"\n",
    "div=soup.findall(\"div\",class_=\"image_and_description_container\")\n",
    "for each in div:\n",
    "    news_title=each.find(\"div\",class_=\"list_text\").find(\"a\").text\n",
    "    date_news=each.find(\"div\",class_=\"list_text\").find(\"div\",class_=\"list_date\").text\n",
    "    details=each.find(\"div\",class_=\"list_text\").find(\"div\",class_=\"content_title\")\n",
    "    details_a=details.find(\"a\")[\"href\"]\n",
    "    img_link=each.find(\"div\",class_=\"list_image\").find(\"img\")\n",
    "\n",
    "    news_paragraph=each.find(\"div\",class_=\"article_teaser_body\").text\n",
    "    print(date_news)\n",
    "    print(pop_url+img_link[\"src\"])\n",
    "    print(pop_url+details_a)\n",
    "    print(news_title)\n",
    "    print(news_paragraph)\n",
    "browser.quit()"
   ]
  },
  {
   "cell_type": "code",
   "execution_count": 10,
   "metadata": {},
   "outputs": [
    {
     "name": "stdout",
     "output_type": "stream",
     "text": [
      "https://www.jpl.nasa.gov/spaceimages/?search=&category=Mars\n",
      "/spaceimages/details.php?id=PIA18245\n"
     ]
    }
   ],
   "source": [
    "\n",
    "\n",
    "executable_path = {'executable_path': 'chromedriver.exe'}\n",
    "browser = Browser('chrome', **executable_path, headless=False)\n",
    "url = 'https://www.jpl.nasa.gov/spaceimages/?search=&category=Mars'\n",
    "browser.visit(url)\n",
    "\n",
    "print(url)\n",
    "\n",
    "html = browser.html\n",
    "soup = BeautifulSoup(html, 'html.parser')\n",
    "\n",
    "footer = soup.find('footer')\n",
    "a_class=footer.find(\"a\")\n",
    "image_url=a_class[\"data-link\"]\n",
    "\n",
    "\n",
    "print(image_url)\n",
    "browser.quit()"
   ]
  },
  {
   "cell_type": "code",
   "execution_count": 11,
   "metadata": {
    "collapsed": true
   },
   "outputs": [],
   "source": [
    "new_url=\"https://www.jpl.nasa.gov/\"+image_url\n",
    "executable_path = {'executable_path': 'chromedriver.exe'}\n",
    "browser = Browser('chrome', **executable_path, headless=False)\n",
    "browser.visit(new_url)\n",
    "html = browser.html\n",
    "soup = BeautifulSoup(html, 'html.parser')\n",
    "fig=soup.find(\"figure\", class_=\"lede\")\n",
    "anchor=fig.find(\"img\")\n",
    "\n",
    "featured_image_url=\"https://www.jpl.nasa.gov\"+anchor[\"src\"]\n",
    "browser.quit()\n",
    "\n"
   ]
  },
  {
   "cell_type": "code",
   "execution_count": 12,
   "metadata": {
    "collapsed": true
   },
   "outputs": [],
   "source": [
    "\n",
    "twitter=\"https://twitter.com/marswxreport?lang=en\"\n",
    "executable_path = {'executable_path': 'chromedriver.exe'}\n",
    "browser = Browser('chrome', **executable_path, headless=False)\n",
    "browser.visit(twitter)\n",
    "html = browser.html\n",
    "soup = BeautifulSoup(html, 'html.parser')\n",
    "#t_list=soup.findAll(\"div\",class_=\"js-tweet-text-container\")\n",
    "\n",
    "t_list=soup.find(\"p\",class_=\"TweetTextSize TweetTextSize--normal js-tweet-text tweet-text\")\n",
    "mars_weather=t_list.text\n",
    "browser.quit()\n",
    "\n"
   ]
  },
  {
   "cell_type": "code",
   "execution_count": 13,
   "metadata": {},
   "outputs": [
    {
     "data": {
      "text/plain": [
       "'Sol 1961 (Feb 11, 2018), Sunny, high -21C/-5F, low -77C/-106F, pressure at 7.42 hPa, daylight 05:40-17:27'"
      ]
     },
     "execution_count": 13,
     "metadata": {},
     "output_type": "execute_result"
    }
   ],
   "source": [
    "mars_weather"
   ]
  },
  {
   "cell_type": "code",
   "execution_count": 14,
   "metadata": {},
   "outputs": [
    {
     "name": "stdout",
     "output_type": "stream",
     "text": [
      "{'Equatorial Diameter:': '6,792 km\\n', 'Polar Diameter:': '6,752 km\\n', 'Mass:': '6.42 x 10^23 kg (10.7% Earth)', 'Moons:': '2 (Phobos & Deimos)', 'Orbit Distance:': '227,943,824 km (1.52 AU)', 'Orbit Period:': '687 days (1.9 years)\\n', 'Surface Temperature: ': '-153 to 20 °C', 'First Record:': '2nd millennium BC', 'Recorded By:': 'Egyptian astronomers'}\n"
     ]
    }
   ],
   "source": []
  },
  {
   "cell_type": "code",
   "execution_count": 15,
   "metadata": {},
   "outputs": [
    {
     "name": "stdout",
     "output_type": "stream",
     "text": [
      "Recorded By:\n"
     ]
    }
   ],
   "source": [
    "print(keys.text)"
   ]
  },
  {
   "cell_type": "code",
   "execution_count": 6,
   "metadata": {},
   "outputs": [
    {
     "name": "stdout",
     "output_type": "stream",
     "text": [
      "            Description                         Values\n",
      "0  Equatorial Diameter:                       6,792 km\n",
      "1       Polar Diameter:                       6,752 km\n",
      "2                 Mass:  6.42 x 10^23 kg (10.7% Earth)\n",
      "3                Moons:            2 (Phobos & Deimos)\n",
      "4       Orbit Distance:       227,943,824 km (1.52 AU)\n",
      "5         Orbit Period:           687 days (1.9 years)\n",
      "6  Surface Temperature:                  -153 to 20 °C\n",
      "7         First Record:              2nd millennium BC\n",
      "8          Recorded By:           Egyptian astronomers\n"
     ]
    }
   ],
   "source": [
    "import pandas as pd\n",
    "facts=\"http://space-facts.com/mars/\"\n",
    "#executable_path = {'executable_path': 'chromedriver.exe'}\n",
    "mars_df=pd.read_html(facts)\n",
    "mars_df[0]=mars_df[0].rename(columns={0: 'Description', 1: 'Values'})\n",
    "mars_df=mars_df[0]\n",
    "print(mars_df)\n",
    "mars_df=mars_df.set_index(\"Description\")\n",
    "#mars_df=mars_df.reset_index(drop=True)\n",
    "#mars_df.set_index(0)"
   ]
  },
  {
   "cell_type": "code",
   "execution_count": 5,
   "metadata": {},
   "outputs": [
    {
     "name": "stdout",
     "output_type": "stream",
     "text": [
      "<table border=\"1\" class=\"dataframe\">\n",
      "  <thead>\n",
      "    <tr style=\"text-align: right;\">\n",
      "      <th></th>\n",
      "      <th>Values</th>\n",
      "    </tr>\n",
      "    <tr>\n",
      "      <th>Description</th>\n",
      "      <th></th>\n",
      "    </tr>\n",
      "  </thead>\n",
      "  <tbody>\n",
      "    <tr>\n",
      "      <th>Equatorial Diameter:</th>\n",
      "      <td>6,792 km</td>\n",
      "    </tr>\n",
      "    <tr>\n",
      "      <th>Polar Diameter:</th>\n",
      "      <td>6,752 km</td>\n",
      "    </tr>\n",
      "    <tr>\n",
      "      <th>Mass:</th>\n",
      "      <td>6.42 x 10^23 kg (10.7% Earth)</td>\n",
      "    </tr>\n",
      "    <tr>\n",
      "      <th>Moons:</th>\n",
      "      <td>2 (Phobos &amp; Deimos)</td>\n",
      "    </tr>\n",
      "    <tr>\n",
      "      <th>Orbit Distance:</th>\n",
      "      <td>227,943,824 km (1.52 AU)</td>\n",
      "    </tr>\n",
      "    <tr>\n",
      "      <th>Orbit Period:</th>\n",
      "      <td>687 days (1.9 years)</td>\n",
      "    </tr>\n",
      "    <tr>\n",
      "      <th>Surface Temperature:</th>\n",
      "      <td>-153 to 20 °C</td>\n",
      "    </tr>\n",
      "    <tr>\n",
      "      <th>First Record:</th>\n",
      "      <td>2nd millennium BC</td>\n",
      "    </tr>\n",
      "    <tr>\n",
      "      <th>Recorded By:</th>\n",
      "      <td>Egyptian astronomers</td>\n",
      "    </tr>\n",
      "  </tbody>\n",
      "</table>\n"
     ]
    }
   ],
   "source": [
    "mars_df1=mars_df.to_html()\n",
    "print(mars_df1)"
   ]
  },
  {
   "cell_type": "code",
   "execution_count": 53,
   "metadata": {},
   "outputs": [
    {
     "name": "stdout",
     "output_type": "stream",
     "text": [
      "cerberus_enhanceddone\n",
      "schiaparelli_enhanceddone\n",
      "syrtis_major_enhanceddone\n",
      "valles_marineris_enhanceddone\n",
      "[{'title': 'cerberus_enhanced', 'image_url': 'http://astropedia.astrogeology.usgs.gov/download/Mars/Viking/cerberus_enhanced.tif/full.jpg'}, {'title': 'schiaparelli_enhanced', 'image_url': 'http://astropedia.astrogeology.usgs.gov/download/Mars/Viking/schiaparelli_enhanced.tif/full.jpg'}, {'title': 'syrtis_major_enhanced', 'image_url': 'http://astropedia.astrogeology.usgs.gov/download/Mars/Viking/syrtis_major_enhanced.tif/full.jpg'}, {'title': 'valles_marineris_enhanced', 'image_url': 'http://astropedia.astrogeology.usgs.gov/download/Mars/Viking/valles_marineris_enhanced.tif/full.jpg'}]\n"
     ]
    }
   ],
   "source": [
    "\n",
    "hem_list=[]\n",
    "hemisphere_list=[\"cerberus_enhanced\",\"schiaparelli_enhanced\",\"syrtis_major_enhanced\",\"valles_marineris_enhanced\"]\n",
    "for hem in hemisphere_list:\n",
    "    hem_dict={}\n",
    "    hemisphere=\"https://astrogeology.usgs.gov/search/map/Mars/Viking/\"+hem\n",
    "    executable_path = {'executable_path': 'chromedriver.exe'}\n",
    "    browser = Browser('chrome', **executable_path, headless=False)\n",
    "    browser.visit(hemisphere)\n",
    "    html = browser.html\n",
    "    soup = BeautifulSoup(html, 'html.parser')\n",
    "    div=soup.find(\"div\",class_=\"downloads\")\n",
    "    img=div.find(\"a\")\n",
    "    hem_dict[\"title\"]=hem\n",
    "    hem_dict[\"image_url\"]=img[\"href\"]\n",
    "    hem_list.append(hem_dict)\n",
    "    print(hem + \" done\")\n",
    "    #print(\"https://astrogeology.usgs.gov\"+img[\"src\"])\n",
    "    #https://astrogeology.usgs.gov/cache/images/cfa62af2557222a02478f1fcd781d445_cerberus_enhanced.tif_full.jpg\n",
    "    browser.quit()\n",
    "#print(hem_dict)\n",
    "#print(\"****************************************************\")\n",
    "print(hem_list)"
   ]
  },
  {
   "cell_type": "code",
   "execution_count": null,
   "metadata": {
    "collapsed": true
   },
   "outputs": [],
   "source": []
  }
 ],
 "metadata": {
  "kernelspec": {
   "display_name": "Python 3",
   "language": "python",
   "name": "python3"
  },
  "language_info": {
   "codemirror_mode": {
    "name": "ipython",
    "version": 3
   },
   "file_extension": ".py",
   "mimetype": "text/x-python",
   "name": "python",
   "nbconvert_exporter": "python",
   "pygments_lexer": "ipython3",
   "version": "3.6.3"
  }
 },
 "nbformat": 4,
 "nbformat_minor": 2
}
